{
 "cells": [
  {
   "cell_type": "code",
   "execution_count": 7,
   "metadata": {},
   "outputs": [
    {
     "name": "stdout",
     "output_type": "stream",
     "text": [
      "Model trained and saved successfully!\n"
     ]
    }
   ],
   "source": [
    "import pandas as pd\n",
    "import joblib\n",
    "from sklearn.model_selection import train_test_split\n",
    "from sklearn.preprocessing import MinMaxScaler, LabelEncoder\n",
    "from sklearn.ensemble import RandomForestClassifier\n",
    "\n",
    "# 1️⃣ Load the dataset\n",
    "df = pd.read_csv(\"Learning_Data.csv\")  # Change filename accordingly\n",
    "\n",
    "# 2️⃣ Scale 'Time_Spent_on_Videos' using MinMaxScaler\n",
    "scaler = MinMaxScaler()\n",
    "df['Time_Spent_on_Videos_Scaled'] = scaler.fit_transform(df[['Time_Spent_on_Videos']])\n",
    "\n",
    "# 3️⃣ Compute Efficiency Score (matching final.ipynb logic)\n",
    "df['Efficiency_Score'] = (0.4 * df['Final_Exam_Score'] +\n",
    "                          0.4 * df['Quiz_Scores'] +\n",
    "                          0.2 * df['Time_Spent_on_Videos_Scaled'] * 100)\n",
    "\n",
    "# 4️⃣ Categorize into 'Proficiency_Level'\n",
    "df['Proficiency_Level'] = pd.qcut(df['Efficiency_Score'], q=3, labels=['beginner', 'intermediate', 'advanced'])\n",
    "\n",
    "# Drop unnecessary columns\n",
    "df.drop(columns=['Time_Spent_on_Videos_Scaled', 'Efficiency_Score'], inplace=True)\n",
    "\n",
    "# 5️⃣ Encode categorical variables using separate LabelEncoders\n",
    "encoder_education = LabelEncoder()\n",
    "df['Education_Level'] = encoder_education.fit_transform(df['Education_Level'])\n",
    "\n",
    "encoder_course = LabelEncoder()\n",
    "df['Course_Name'] = encoder_course.fit_transform(df['Course_Name'])\n",
    "\n",
    "encoder_proficiency = LabelEncoder()\n",
    "df['Proficiency_Level'] = encoder_proficiency.fit_transform(df['Proficiency_Level'])  # Encode labels\n",
    "\n",
    "# 6️⃣ Define features (X) and target (y)\n",
    "X = df[['Age', 'Education_Level', 'Course_Name', 'Time_Spent_on_Videos', 'Quiz_Scores', 'Final_Exam_Score']]\n",
    "y = df['Proficiency_Level']\n",
    "\n",
    "# 7️⃣ Split data into training and testing sets\n",
    "X_train, X_test, y_train, y_test = train_test_split(X, y, test_size=0.1, random_state=42)\n",
    "\n",
    "# 8️⃣ Train the model (Random Forest)\n",
    "model = RandomForestClassifier(n_estimators=100, random_state=42)\n",
    "model.fit(X_train, y_train)\n",
    "\n",
    "# 9️⃣ Save the trained model and encoders\n",
    "joblib.dump(model, \"final_model.pkl\")\n",
    "joblib.dump(scaler, \"scaler.pkl\")\n",
    "joblib.dump(encoder_education, \"encoder_education.pkl\")\n",
    "joblib.dump(encoder_course, \"encoder_course.pkl\")\n",
    "joblib.dump(encoder_proficiency, \"encoder_proficiency.pkl\")  # Save proficiency encoder\n",
    "\n",
    "print(\"Model trained and saved successfully!\")\n"
   ]
  }
 ],
 "metadata": {
  "kernelspec": {
   "display_name": "Python 3",
   "language": "python",
   "name": "python3"
  },
  "language_info": {
   "codemirror_mode": {
    "name": "ipython",
    "version": 3
   },
   "file_extension": ".py",
   "mimetype": "text/x-python",
   "name": "python",
   "nbconvert_exporter": "python",
   "pygments_lexer": "ipython3",
   "version": "3.12.9"
  }
 },
 "nbformat": 4,
 "nbformat_minor": 2
}
