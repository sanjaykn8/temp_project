{
 "cells": [
  {
   "cell_type": "code",
   "execution_count": 1,
   "metadata": {},
   "outputs": [
    {
     "name": "stdout",
     "output_type": "stream",
     "text": [
      "Updated file saved as: Learning_Data.csv\n"
     ]
    }
   ],
   "source": [
    "import pandas as pd\n",
    "from sklearn.preprocessing import MinMaxScaler\n",
    "\n",
    "# Load the dataset\n",
    "csv_path = \"personalized_learning_dataset.csv\"  # Change this to your actual file path\n",
    "df = pd.read_csv(csv_path)\n",
    "\n",
    "# Ensure necessary columns exist\n",
    "required_columns = ['Time_Spent_on_Videos', 'Quiz_Scores', 'Final_Exam_Score']\n",
    "for col in required_columns:\n",
    "    if col not in df.columns:\n",
    "        raise ValueError(f\"Missing required column: {col}\")\n",
    "\n",
    "# Scale 'Time_Spent_on_Videos' using MinMaxScaler\n",
    "scaler = MinMaxScaler()\n",
    "df['Time_Spent_on_Videos_Scaled'] = scaler.fit_transform(df[['Time_Spent_on_Videos']])\n",
    "\n",
    "# Compute Efficiency Score\n",
    "df['Efficiency_Score'] = (0.4 * df['Final_Exam_Score'] +\n",
    "                          0.4 * df['Quiz_Scores'] +\n",
    "                          0.2 * df['Time_Spent_on_Videos_Scaled'] * 100)\n",
    "\n",
    "# Categorize into Proficiency Levels\n",
    "df['Proficiency_Level'] = pd.qcut(df['Efficiency_Score'], q=3, labels=['beginner', 'intermediate', 'advanced'])\n",
    "\n",
    "# Drop unnecessary columns\n",
    "df.drop(columns=['Time_Spent_on_Videos_Scaled', 'Efficiency_Score'], inplace=True)\n",
    "\n",
    "# Save the updated CSV\n",
    "updated_csv_path = \"Learning_Data.csv\"  # Change this to your desired output file name\n",
    "df.to_csv(updated_csv_path, index=False)\n",
    "\n",
    "print(f\"Updated file saved as: {updated_csv_path}\")\n"
   ]
  }
 ],
 "metadata": {
  "kernelspec": {
   "display_name": "Python 3",
   "language": "python",
   "name": "python3"
  },
  "language_info": {
   "codemirror_mode": {
    "name": "ipython",
    "version": 3
   },
   "file_extension": ".py",
   "mimetype": "text/x-python",
   "name": "python",
   "nbconvert_exporter": "python",
   "pygments_lexer": "ipython3",
   "version": "3.12.9"
  }
 },
 "nbformat": 4,
 "nbformat_minor": 2
}
